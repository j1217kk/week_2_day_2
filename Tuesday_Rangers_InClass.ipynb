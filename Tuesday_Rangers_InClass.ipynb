{
 "cells": [
  {
   "cell_type": "markdown",
   "metadata": {},
   "source": [
    "# Functions, Scoping, Data Collections 1 & List Comprehensions"
   ]
  },
  {
   "cell_type": "markdown",
   "metadata": {},
   "source": [
    "## Tasks Today:\n",
    "\n",
    "<i>Monday Additions (for loops)</i>\n",
    "\n",
    "1) For Loops <br>\n",
    " &nbsp;&nbsp;&nbsp;&nbsp; a) Using 'in' keyword <br>\n",
    " &nbsp;&nbsp;&nbsp;&nbsp; b) Continue Statement <br>\n",
    " &nbsp;&nbsp;&nbsp;&nbsp; c) Break Statement <br>\n",
    " &nbsp;&nbsp;&nbsp;&nbsp; d) Pass Statement <br>\n",
    " &nbsp;&nbsp;&nbsp;&nbsp; e) Double For Loops <br>\n",
    "2) While Loops <br>\n",
    " &nbsp;&nbsp;&nbsp;&nbsp; a) Looping 'While True' <br>\n",
    " &nbsp;&nbsp;&nbsp;&nbsp; b) While and For Loops Used Together <br>\n",
    " \n",
    "3) Lists <br>\n",
    " &nbsp;&nbsp;&nbsp;&nbsp; a) Declaring Lists <br>\n",
    " &nbsp;&nbsp;&nbsp;&nbsp; b) Indexing a List <br>\n",
    " &nbsp;&nbsp;&nbsp;&nbsp; c) .append() <br>\n",
    " &nbsp;&nbsp;&nbsp;&nbsp; d) .insert() <br>\n",
    " &nbsp;&nbsp;&nbsp;&nbsp; e) .pop() <br>\n",
    " &nbsp;&nbsp;&nbsp;&nbsp; f) .remove() <br>\n",
    " &nbsp;&nbsp;&nbsp;&nbsp; g) del() <br>\n",
    " &nbsp;&nbsp;&nbsp;&nbsp; h) Concatenating Two Lists <br>\n",
    " &nbsp;&nbsp;&nbsp;&nbsp; i) Lists Within Lists <br>\n",
    " &nbsp;&nbsp;&nbsp;&nbsp; j) Looping Through Lists <br>\n",
    "4) Working With Lists <br>\n",
    " &nbsp;&nbsp;&nbsp;&nbsp; a) min() <br>\n",
    " &nbsp;&nbsp;&nbsp;&nbsp; b) max() <br>\n",
    " &nbsp;&nbsp;&nbsp;&nbsp; c) sum() <br>\n",
    " &nbsp;&nbsp;&nbsp;&nbsp; d) sort() <br>\n",
    " &nbsp;&nbsp;&nbsp;&nbsp; e) Copying a List <br>\n",
    " &nbsp;&nbsp;&nbsp;&nbsp; f) 'in' keyword <br>\n",
    " &nbsp;&nbsp;&nbsp;&nbsp; g) 'not in' keyword <br>\n",
    " &nbsp;&nbsp;&nbsp;&nbsp; i) Checking an Empty List <br>\n",
    " &nbsp;&nbsp;&nbsp;&nbsp; j) Removing Instances with a Loop <br> \n",
    "5) List Comprehensions <br>\n",
    "6) Tuples <br>\n",
    " &nbsp;&nbsp;&nbsp;&nbsp; a) sorted() <br>\n"
   ]
  },
  {
   "cell_type": "markdown",
   "metadata": {},
   "source": [
    "# For Loops"
   ]
  },
  {
   "cell_type": "code",
   "execution_count": 3,
   "metadata": {},
   "outputs": [
    {
     "name": "stdout",
     "output_type": "stream",
     "text": [
      "0\n",
      "1\n",
      "2\n",
      "3\n",
      "4\n",
      "5\n",
      "6\n",
      "7\n",
      "8\n",
      "9\n",
      "J\n",
      "o\n",
      "h\n",
      "n\n",
      " \n",
      "K\n",
      "i\n",
      "m\n",
      "J\n",
      "o\n",
      "h\n",
      "n\n",
      " \n",
      "K\n",
      "i\n",
      "m\n"
     ]
    }
   ],
   "source": [
    "# for keyword, counter/iterator, in keyword, object\n",
    "\n",
    "for i in range(10):\n",
    "    print(i)\n",
    "\n",
    "name = 'John Kim'\n",
    "for letter in name:\n",
    "    print(letter)\n",
    "\n",
    "for i in range(len(name)):\n",
    "    print(name[i])\n",
    "\n"
   ]
  },
  {
   "cell_type": "markdown",
   "metadata": {},
   "source": [
    "##### Using 'in' keyword"
   ]
  },
  {
   "cell_type": "code",
   "execution_count": 4,
   "metadata": {},
   "outputs": [
    {
     "name": "stdout",
     "output_type": "stream",
     "text": [
      "0\n",
      "1\n",
      "4\n",
      "9\n",
      "16\n",
      "25\n",
      "36\n",
      "49\n",
      "64\n",
      "81\n",
      "100\n",
      "121\n",
      "144\n",
      "169\n",
      "196\n"
     ]
    }
   ],
   "source": [
    "for i in range(15):\n",
    "    print(i**2)\n",
    "#in is what accesses the items in an iterable"
   ]
  },
  {
   "cell_type": "markdown",
   "metadata": {},
   "source": [
    "##### Continue Statement"
   ]
  },
  {
   "cell_type": "code",
   "execution_count": 8,
   "metadata": {},
   "outputs": [
    {
     "name": "stdout",
     "output_type": "stream",
     "text": [
      "0\n",
      "1\n",
      "2\n",
      "3\n",
      "4\n",
      "5\n",
      "6\n",
      "7\n",
      "8\n",
      "9\n",
      "10\n",
      "11\n",
      "12\n",
      "13\n",
      "14\n",
      "15\n",
      "16\n",
      "17\n",
      "18\n",
      "19\n",
      "0\n",
      "1\n",
      "2\n",
      "3\n",
      "4\n",
      "7\n",
      "8\n",
      "9\n",
      "10\n",
      "11\n",
      "12\n",
      "13\n",
      "14\n",
      "15\n",
      "16\n",
      "17\n",
      "18\n",
      "19\n"
     ]
    }
   ],
   "source": [
    "#will continue to the next iteration\n",
    "for i in range(20):\n",
    "    print(i)\n",
    "\n",
    "for i in range(20):\n",
    "    if i == 5 or i == 6:\n",
    "        continue #skips if 5 or 6\n",
    "    print(i)"
   ]
  },
  {
   "cell_type": "markdown",
   "metadata": {},
   "source": [
    "##### Break Statement"
   ]
  },
  {
   "cell_type": "code",
   "execution_count": 9,
   "metadata": {},
   "outputs": [
    {
     "name": "stdout",
     "output_type": "stream",
     "text": [
      "0\n",
      "1\n",
      "2\n",
      "3\n",
      "4\n",
      "5\n",
      "6\n",
      "7\n",
      "8\n",
      "9\n",
      "\n",
      "\n",
      "0\n",
      "1\n",
      "2\n",
      "3\n",
      "4\n",
      "5\n"
     ]
    }
   ],
   "source": [
    "# will break out of current loop\n",
    "for i in range(10):\n",
    "    print(i)\n",
    "\n",
    "print(\"\\n\")\n",
    "\n",
    "for i in range(10):\n",
    "    if i == 6:\n",
    "        break #if 6, breaks. does not continue.\n",
    "    print(i)"
   ]
  },
  {
   "cell_type": "markdown",
   "metadata": {},
   "source": [
    "##### Pass Statement"
   ]
  },
  {
   "cell_type": "code",
   "execution_count": 13,
   "metadata": {},
   "outputs": [
    {
     "ename": "IndentationError",
     "evalue": "expected an indented block (584808506.py, line 9)",
     "output_type": "error",
     "traceback": [
      "\u001b[1;36m  File \u001b[1;32m\"C:\\Users\\j1217\\AppData\\Local\\Temp\\ipykernel_88152\\584808506.py\"\u001b[1;36m, line \u001b[1;32m9\u001b[0m\n\u001b[1;33m    def my_func2():\u001b[0m\n\u001b[1;37m    ^\u001b[0m\n\u001b[1;31mIndentationError\u001b[0m\u001b[1;31m:\u001b[0m expected an indented block\n"
     ]
    }
   ],
   "source": [
    "# mostly used as a placeholder, and will continue on same iteration\\\n",
    "\n",
    "for i in range(20):\n",
    "    pass #todo: come do things with this later\n",
    "\n",
    "def my_func():\n",
    "    pass #if this did not have pass, code would not commpile becuase there is expected code here\n",
    "\n",
    "def my_func2():\n",
    "    for i in range(10):\n",
    "        print(i)\n",
    "\n",
    "my_func2()\n"
   ]
  },
  {
   "cell_type": "markdown",
   "metadata": {},
   "source": [
    "##### Double For Loops"
   ]
  },
  {
   "cell_type": "code",
   "execution_count": 17,
   "metadata": {},
   "outputs": [
    {
     "name": "stdout",
     "output_type": "stream",
     "text": [
      "i = 0 j = 0\n",
      "i = 0 j = 1\n",
      "i = 0 j = 2\n",
      "i = 0 j = 3\n",
      "i = 0 j = 4\n",
      "i = 1 j = 0\n",
      "i = 1 j = 1\n",
      "i = 1 j = 2\n",
      "i = 1 j = 3\n",
      "i = 1 j = 4\n",
      "i = 2 j = 0\n",
      "i = 2 j = 1\n",
      "i = 2 j = 2\n",
      "i = 2 j = 3\n",
      "i = 2 j = 4\n",
      "i = 3 j = 0\n",
      "i = 3 j = 1\n",
      "i = 3 j = 2\n",
      "i = 3 j = 3\n",
      "i = 3 j = 4\n",
      "i = 4 j = 0\n",
      "i = 4 j = 1\n",
      "i = 4 j = 2\n",
      "i = 4 j = 3\n",
      "i = 4 j = 4\n"
     ]
    }
   ],
   "source": [
    "for i in range(5):\n",
    "    for j in range(5):\n",
    "        print(\"i =\", i, \"j =\", j)"
   ]
  },
  {
   "cell_type": "code",
   "execution_count": 19,
   "metadata": {},
   "outputs": [
    {
     "name": "stdout",
     "output_type": "stream",
     "text": [
      "0\n",
      "1\n",
      "2\n",
      "3\n",
      "4\n",
      "1\n",
      "2\n",
      "3\n",
      "4\n",
      "5\n",
      "2\n",
      "3\n",
      "4\n",
      "5\n",
      "6\n",
      "3\n",
      "4\n",
      "5\n",
      "6\n",
      "7\n",
      "4\n",
      "5\n",
      "6\n",
      "7\n",
      "8\n"
     ]
    }
   ],
   "source": [
    "for i in range(5):\n",
    "    for j in range(5):\n",
    "        print(i+j)"
   ]
  },
  {
   "cell_type": "code",
   "execution_count": 38,
   "metadata": {},
   "outputs": [
    {
     "name": "stdout",
     "output_type": "stream",
     "text": [
      "2\n",
      "6\n",
      "10\n",
      "{'Hello': 1, 'my': 1, 'name': 1, 'is': 3, 'John.': 1, 'This': 2, 'a': 2, 'cool': 3, 'class': 1, 'Have': 1, 'nice': 1, 'day': 1}\n"
     ]
    }
   ],
   "source": [
    "#Dictionary tidbit. for optimal time complexity, avoid using nested for loops. use dictionaries for multi-list iterations\n",
    "\n",
    "for num in my_list:\n",
    "    if num in my_list2: #checks each item in my_list2 for comparison. time complexity not good\n",
    "        print(num)\n",
    "####        \n",
    "my_string = \"Hello my name is John. This is a cool class This is cool Have a nice day cool\"\n",
    "\n",
    "#counts how many instances of each value\n",
    "my_dict = {}\n",
    "for char in my_string.split():\n",
    "    if char not in my_dict:\n",
    "        my_dict[char] = 1\n",
    "    else:\n",
    "        my_dict[char] += 1\n",
    "print(my_dict)\n",
    "\n"
   ]
  },
  {
   "cell_type": "markdown",
   "metadata": {},
   "source": [
    "### While Loops"
   ]
  },
  {
   "cell_type": "code",
   "execution_count": 41,
   "metadata": {},
   "outputs": [
    {
     "name": "stdout",
     "output_type": "stream",
     "text": [
      "0\n",
      "1\n",
      "2\n",
      "3\n",
      "4\n",
      "5\n",
      "6\n",
      "7\n",
      "8\n",
      "9\n",
      "\n",
      "\n",
      "0\n",
      "1\n",
      "4\n",
      "9\n",
      "16\n",
      "25\n",
      "36\n",
      "49\n",
      "64\n",
      "81\n",
      "100\n",
      "121\n",
      "144\n",
      "169\n",
      "196\n"
     ]
    }
   ],
   "source": [
    "#while keyword, condition statement\n",
    "#while loop will run based on the condition statement\n",
    "\n",
    "counter = 0\n",
    "while counter < 10:\n",
    "    print(counter)\n",
    "    counter += 1\n",
    "\n",
    "print('\\n')\n",
    "\n",
    "num = 0\n",
    "while num < 15:\n",
    "    print(num**2)\n",
    "    num += 1"
   ]
  },
  {
   "cell_type": "markdown",
   "metadata": {},
   "source": [
    "##### looping 'While True'"
   ]
  },
  {
   "cell_type": "code",
   "execution_count": 43,
   "metadata": {},
   "outputs": [
    {
     "name": "stdout",
     "output_type": "stream",
     "text": [
      "Infinite Loop\n"
     ]
    }
   ],
   "source": [
    "#true as a condition for while loop to run\n",
    "game_over = False\n",
    "while True:\n",
    "    print(\"Infinite Loop\")\n",
    "    if game_over == False:\n",
    "        break"
   ]
  },
  {
   "cell_type": "code",
   "execution_count": null,
   "metadata": {},
   "outputs": [],
   "source": [
    "game = True\n",
    "print(game)\n",
    "\n",
    "my_list = [1, 2, 3, 4, 5, 6]\n",
    "index = 0\n",
    "while game:\n",
    "    if my_list[index] == 4:\n",
    "        game = False\n",
    "    print(my_list[index])\n",
    "    index += 1"
   ]
  },
  {
   "cell_type": "markdown",
   "metadata": {},
   "source": [
    "##### While & For Loops Used Together"
   ]
  },
  {
   "cell_type": "code",
   "execution_count": 52,
   "metadata": {},
   "outputs": [
    {
     "name": "stdout",
     "output_type": "stream",
     "text": [
      "\n",
      "While Loop Iteration: 0\n",
      "For Loop Iteration: 0\n",
      "For Loop Iteration: 1\n",
      "\n",
      "While Loop Iteration: 1\n",
      "For Loop Iteration: 0\n",
      "For Loop Iteration: 1\n",
      "\n",
      "While Loop Iteration: 2\n",
      "For Loop Iteration: 0\n",
      "For Loop Iteration: 1\n",
      "\n",
      "While Loop Iteration: 3\n",
      "For Loop Iteration: 0\n",
      "For Loop Iteration: 1\n",
      "\n",
      "While Loop Iteration: 4\n",
      "For Loop Iteration: 0\n",
      "For Loop Iteration: 1\n"
     ]
    }
   ],
   "source": [
    "#generally not good practice to use a while & for together. not good time complexity\n",
    "\n",
    "num = 0\n",
    "\n",
    "while num < 5:\n",
    "    print(\"\\nWhile Loop Iteration: \" + str(num))\n",
    "    \n",
    "    for i in range(2):\n",
    "        print(\"For Loop Iteration: \" + str(i))\n",
    "    num += 1"
   ]
  },
  {
   "cell_type": "markdown",
   "metadata": {},
   "source": [
    "##### The Range Function"
   ]
  },
  {
   "cell_type": "code",
   "execution_count": 53,
   "metadata": {},
   "outputs": [
    {
     "name": "stdout",
     "output_type": "stream",
     "text": [
      "0\n",
      "1\n",
      "2\n",
      "3\n",
      "4\n",
      "5\n",
      "6\n",
      "7\n",
      "8\n",
      "9\n",
      "\n",
      "\n",
      "1\n",
      "2\n",
      "3\n",
      "4\n",
      "5\n",
      "6\n",
      "7\n",
      "8\n",
      "9\n",
      "\n",
      "\n",
      "1\n",
      "4\n",
      "7\n"
     ]
    }
   ],
   "source": [
    "#range(start, stop, step) - stop is required. start defaults to 0 if none is given. step defaults to 1 if none given.\n",
    "\n",
    "for i in range(10):\n",
    "    print(i)\n",
    "print(\"\\n\")\n",
    "for i in range(1, 10): #start, stop\n",
    "    print(i)\n",
    "print('\\n')\n",
    "for i in range(1, 10, 3): #start, stop, step\n",
    "    print(i)"
   ]
  },
  {
   "cell_type": "markdown",
   "metadata": {},
   "source": [
    "### String Manipulation Exercise"
   ]
  },
  {
   "cell_type": "code",
   "execution_count": 54,
   "metadata": {},
   "outputs": [
    {
     "name": "stdout",
     "output_type": "stream",
     "text": [
      "Connor\n",
      "Max\n",
      "Evan\n",
      "Jordan\n"
     ]
    }
   ],
   "source": [
    "names = ['    coNNor', 'max', ' EVan ', 'JORDAN']\n",
    "# HINT: You will need to use a for loop for iteration\n",
    "# Loop through the names list, remove white space and capitalize the first letter of each name\n",
    "# Print each new name\n",
    "for name in names:\n",
    "    print(name.strip().title())\n",
    "\n"
   ]
  },
  {
   "cell_type": "markdown",
   "metadata": {},
   "source": [
    "## Lists"
   ]
  },
  {
   "cell_type": "markdown",
   "metadata": {},
   "source": [
    "##### Declaring Lists"
   ]
  },
  {
   "cell_type": "code",
   "execution_count": 55,
   "metadata": {},
   "outputs": [
    {
     "name": "stdout",
     "output_type": "stream",
     "text": [
      "['Ryan', 'Tenzin', 'Austin', 'Dylan', 'Mohammad']\n"
     ]
    }
   ],
   "source": [
    "our_list = []\n",
    "names = [\"Ryan\", \"Tenzin\", \"Austin\", \"Dylan\", \"Mohammad\"]\n",
    "numbers = [1, 2, 3, 4, 5, 6, 10]\n",
    "print(names)"
   ]
  },
  {
   "cell_type": "markdown",
   "metadata": {},
   "source": [
    "##### Indexing a List"
   ]
  },
  {
   "cell_type": "code",
   "execution_count": 60,
   "metadata": {},
   "outputs": [
    {
     "name": "stdout",
     "output_type": "stream",
     "text": [
      "Austin\n",
      "['Tenzin', 'Austin', 'Dylan', 'Mohammad']\n",
      "['Ryan', 'Tenzin', 'Austin', 'Dylan']\n",
      "['Ryan', 'Tenzin']\n",
      "['Tenzin', 'Dylan']\n",
      "['Mohammad', 'Dylan', 'Austin', 'Tenzin', 'Ryan']\n"
     ]
    }
   ],
   "source": [
    "#[start: stop: step] --> last item[-1]\n",
    "\n",
    "names = [\"Ryan\", \"Tenzin\", \"Austin\", \"Dylan\", \"Mohammad\"]\n",
    "\n",
    "#single index\n",
    "print(names[2])\n",
    "\n",
    "#print starting at index 1 and going to the end of the list\n",
    "print(names[1:])\n",
    "\n",
    "#print starting at the beginning of the list and go to the specified index\n",
    "print(names[:2])\n",
    "\n",
    "#print starting at index 1 and stepping by 2\n",
    "print(names[1::2])\n",
    "\n",
    "#print starting at the back and going to the front\n",
    "print(names[::-1])\n"
   ]
  },
  {
   "cell_type": "markdown",
   "metadata": {},
   "source": [
    "### List Methods"
   ]
  },
  {
   "cell_type": "markdown",
   "metadata": {},
   "source": [
    "##### .append()"
   ]
  },
  {
   "cell_type": "code",
   "execution_count": 77,
   "metadata": {},
   "outputs": [
    {
     "name": "stdout",
     "output_type": "stream",
     "text": [
      "['Ryan', 'Tenzin', 'Austin', 'Dylan', 'Mohammad', 'Alex', 'John']\n",
      "['Ryan', 'Tenzin', 'Austin', 'Dylan', 'Mohammad', 'Alex', 'John', 3]\n"
     ]
    }
   ],
   "source": [
    "names = [\"Ryan\", \"Tenzin\", \"Austin\", \"Dylan\", \"Mohammad\"]\n",
    "names.append('Alex')\n",
    "names.append('John')\n",
    "print(names)\n",
    "\n",
    "names.append(3)\n",
    "print(names)\n",
    "\n",
    "\n"
   ]
  },
  {
   "cell_type": "code",
   "execution_count": 66,
   "metadata": {},
   "outputs": [
    {
     "name": "stdout",
     "output_type": "stream",
     "text": [
      "['Ryan', 'Tenzin', 'Austin', 'Dylan', 'Mohammad', 'Bill', 'Ted']\n",
      "['Ryan', 'Tenzin', 'Austin', 'Dylan', 'Mohammad', 'Bill', 'Ted', 'Bill', 'Ted']\n"
     ]
    }
   ],
   "source": [
    "#appending multiple items\n",
    "\n",
    "names = [\"Ryan\", \"Tenzin\", \"Austin\", \"Dylan\", \"Mohammad\"]\n",
    "names2 = [\"Bill\", \"Ted\"]\n",
    "\n",
    "for name in names2:\n",
    "    names.append(name)\n",
    "print(names)\n",
    "\n",
    "names3 = names + names2\n",
    "print(names3)\n",
    "\n"
   ]
  },
  {
   "cell_type": "markdown",
   "metadata": {},
   "source": [
    "##### .insert()"
   ]
  },
  {
   "cell_type": "code",
   "execution_count": 79,
   "metadata": {},
   "outputs": [
    {
     "name": "stdout",
     "output_type": "stream",
     "text": [
      "['Ryan', 'Tenzin', 'Austin', 'Sam', 'Dylan', 'Mohammad']\n",
      "['Ryan', 'Tenzin', 'Austin', 'Sam', 10, 'Dylan', 'Mohammad']\n",
      "[5, 6, 1, 'Sam', 10, 11, 334, 1341, 1515]\n"
     ]
    }
   ],
   "source": [
    "#our_list.insert(index, value)\n",
    "names = [\"Ryan\", \"Tenzin\", \"Austin\", \"Dylan\", \"Mohammad\"]\n",
    "names.insert(3, \"Sam\")\n",
    "print(names)\n",
    "\n",
    "names.insert(4, 10)\n",
    "print(names)\n",
    "\n",
    "new_data = [5, 6, 1, 10, 11, 334, 1341, 1515]\n",
    "\n",
    "for i in range(len(new_data)):\n",
    "    if i == 3:\n",
    "        new_data.insert(i, names[i])\n",
    "print(new_data)"
   ]
  },
  {
   "cell_type": "markdown",
   "metadata": {},
   "source": [
    "##### .pop()"
   ]
  },
  {
   "cell_type": "code",
   "execution_count": 83,
   "metadata": {},
   "outputs": [
    {
     "name": "stdout",
     "output_type": "stream",
     "text": [
      "Dylan\n",
      "['Ryan', 'Tenzin', 'Austin', 'Mohammad']\n",
      "Mohammad\n",
      "['Ryan', 'Tenzin', 'Austin']\n"
     ]
    }
   ],
   "source": [
    "# default is the ast value if no parameter is given\n",
    "# pop returns the element that was removed in case you want to assign it into a variable \n",
    "\n",
    "names = [\"Ryan\", \"Tenzin\", \"Austin\", \"Dylan\", \"Mohammad\"]\n",
    "\n",
    "bye_bye_name = names.pop(3)\n",
    "print(bye_bye_name)\n",
    "print(names)\n",
    "\n",
    "print(names.pop())\n",
    "print(names)\n"
   ]
  },
  {
   "cell_type": "markdown",
   "metadata": {},
   "source": [
    "##### .remove()"
   ]
  },
  {
   "cell_type": "code",
   "execution_count": 85,
   "metadata": {},
   "outputs": [
    {
     "name": "stdout",
     "output_type": "stream",
     "text": [
      "['Bob', 'Billy', 'Berry', 'Bertha', 'Bob', 'Bert']\n",
      "['Billy', 'Berry', 'Bertha', 'Bert']\n"
     ]
    }
   ],
   "source": [
    "# value to be removed, not an index\n",
    "names = ['Bob', 'Bob', 'Billy', 'Berry', 'Bertha', 'Bob', 'Bert']\n",
    "names.remove('Bob')\n",
    "print(names)\n",
    "\n",
    "#remove all instances of 'Bob'\n",
    "while 'Bob' in names:\n",
    "    names.remove('Bob')\n",
    "\n",
    "print(names)"
   ]
  },
  {
   "cell_type": "code",
   "execution_count": 86,
   "metadata": {},
   "outputs": [
    {
     "name": "stdout",
     "output_type": "stream",
     "text": [
      "['Billy', 'Berry', 'Bertha', 'Bob', 'Bert']\n"
     ]
    }
   ],
   "source": [
    "names = ['Bob', 'Bob', 'Billy', 'Berry', 'Bertha', 'Bob', 'Bert'] ##ASK ALEX ABOUT THIS\n",
    "\n",
    "for name in names:\n",
    "    if name == 'Bob':\n",
    "        names.remove(name)\n",
    "print(names)\n"
   ]
  },
  {
   "cell_type": "markdown",
   "metadata": {},
   "source": [
    "### Working With Lists"
   ]
  },
  {
   "cell_type": "markdown",
   "metadata": {},
   "source": [
    "##### del()"
   ]
  },
  {
   "cell_type": "code",
   "execution_count": 93,
   "metadata": {},
   "outputs": [
    {
     "name": "stdout",
     "output_type": "stream",
     "text": [
      "['Billy', 'Berry', 'Bertha', 'Bob', 'Bert']\n"
     ]
    }
   ],
   "source": [
    "# index to be removed, not value \n",
    "# BE CAREFUL with del, can cause an indexing error if not used carefully\n",
    "names = ['Bob', 'Billy', 'Berry', 'Bertha', 'Bob', 'Bert'] \n",
    "del(names[0])\n",
    "print(names)\n",
    "\n",
    "#del(\"Berry\") does not work. \"cannot delete literal\"\n"
   ]
  },
  {
   "cell_type": "markdown",
   "metadata": {},
   "source": [
    "##### min()"
   ]
  },
  {
   "cell_type": "code",
   "execution_count": 98,
   "metadata": {},
   "outputs": [
    {
     "name": "stdout",
     "output_type": "stream",
     "text": [
      "-12\n",
      "Alex\n"
     ]
    }
   ],
   "source": [
    "#return smallest item in a list\n",
    "\n",
    "nums = [3, 6, 1, 5, 10, -12]\n",
    "print(min(nums))\n",
    "\n",
    "names = [\"Ryan\", \"Alex\", \"Zoop\", \"Xenry\", \"alex\"] #prioritzes alphabetical and capitalized\n",
    "print(min(names))"
   ]
  },
  {
   "cell_type": "markdown",
   "metadata": {},
   "source": [
    "##### max()"
   ]
  },
  {
   "cell_type": "code",
   "execution_count": 99,
   "metadata": {},
   "outputs": [
    {
     "name": "stdout",
     "output_type": "stream",
     "text": [
      "10\n",
      "alex\n"
     ]
    }
   ],
   "source": [
    "print(max(nums))\n",
    "print(max(names)) #shows lowercase as max, because it comes after uppercase"
   ]
  },
  {
   "cell_type": "markdown",
   "metadata": {},
   "source": [
    "##### sum()"
   ]
  },
  {
   "cell_type": "code",
   "execution_count": 101,
   "metadata": {},
   "outputs": [
    {
     "name": "stdout",
     "output_type": "stream",
     "text": [
      "13\n"
     ]
    }
   ],
   "source": [
    "#needs to be integers or floats\n",
    "print(sum(nums))"
   ]
  },
  {
   "cell_type": "markdown",
   "metadata": {},
   "source": [
    "##### sorted() "
   ]
  },
  {
   "cell_type": "code",
   "execution_count": 103,
   "metadata": {},
   "outputs": [
    {
     "name": "stdout",
     "output_type": "stream",
     "text": [
      "[-12, 1, 3, 5, 6, 10]\n",
      "[-12, 1, 3, 5, 6, 10]\n"
     ]
    }
   ],
   "source": [
    "#will return a new sorted list. will create a new variable\n",
    "\n",
    "numbers = [3, 6, 1, 5, 10, -12]\n",
    "\n",
    "print(sorted(numbers))\n",
    "sorted_nums = sorted(numbers)\n",
    "print(sorted_nums)"
   ]
  },
  {
   "cell_type": "markdown",
   "metadata": {},
   "source": [
    "##### .sort() <br>\n",
    "<p>Difference between sort and sorted, is that sorted doesn't change original list it returns a copy, while .sort changes the original list</p>"
   ]
  },
  {
   "cell_type": "code",
   "execution_count": 105,
   "metadata": {},
   "outputs": [
    {
     "name": "stdout",
     "output_type": "stream",
     "text": [
      "Numbers before sort [3, 6, 1, 5, 10, -12]\n",
      "Numbers after sort [-12, 1, 3, 5, 6, 10]\n",
      "None\n"
     ]
    }
   ],
   "source": [
    "numbers = [3, 6, 1, 5, 10, -12]\n",
    "\n",
    "print(\"Numbers before sort\", numbers)\n",
    "numbers.sort()\n",
    "print(\"Numbers after sort\", numbers)\n",
    "print(numbers.sort())"
   ]
  },
  {
   "cell_type": "markdown",
   "metadata": {},
   "source": [
    "##### Copying a List"
   ]
  },
  {
   "cell_type": "code",
   "execution_count": 106,
   "metadata": {},
   "outputs": [
    {
     "name": "stdout",
     "output_type": "stream",
     "text": [
      "[3, 6, 1, 5, 10, -12]\n",
      "[3, 6, 1, 5, 10, -12]\n"
     ]
    }
   ],
   "source": [
    "# [:] copies a list, doesn't alter original'\n",
    "numbers = [3, 6, 1, 5, 10, -12]\n",
    "new_list = numbers[:]\n",
    "\n",
    "print(numbers)\n",
    "print(new_list)"
   ]
  },
  {
   "cell_type": "markdown",
   "metadata": {},
   "source": [
    "##### Looping Through Lists"
   ]
  },
  {
   "cell_type": "code",
   "execution_count": 110,
   "metadata": {},
   "outputs": [
    {
     "name": "stdout",
     "output_type": "stream",
     "text": [
      "John\n",
      "Laura\n",
      "Bill\n",
      "Richard\n",
      "Sarah\n",
      "Bilbo\n",
      "0\n",
      "1\n",
      "2\n",
      "3\n",
      "4\n",
      "5\n",
      "\n",
      "\n",
      "John\n",
      "Laura\n",
      "Bill\n",
      "Richard\n",
      "Sarah\n",
      "Bilbo\n"
     ]
    }
   ],
   "source": [
    "#Two ways to Loop through a list. one is by index and the other is by value, using the \"in\" keyword\n",
    "names = [\"John\", \"Laura\", \"Bill\", \"Richard\", \"Sarah\", \"Bilbo\"]\n",
    "\n",
    "#looping by index\n",
    "for i in range(len(names)):\n",
    "    print(names[i])\n",
    "\n",
    "#Return the index of Laura\n",
    "for i in range(len(names)):\n",
    "    if names[i] == 'Laura':\n",
    "        print(i)\n",
    "    \n",
    "\n",
    "print(\"\\n\")\n",
    "\n",
    "#looping by value\n",
    "for name in names:\n",
    "    print(name)\n",
    "\n",
    "    \n"
   ]
  },
  {
   "cell_type": "code",
   "execution_count": 113,
   "metadata": {},
   "outputs": [
    {
     "name": "stdout",
     "output_type": "stream",
     "text": [
      "1\n",
      "0 John\n",
      "1 Laura\n",
      "2 Bill\n",
      "3 Richard\n",
      "4 Sarah\n",
      "5 Bilbo\n"
     ]
    }
   ],
   "source": [
    "#enumerate\n",
    "for i, v in enumerate(names):\n",
    "    if v == \"Laura\":\n",
    "        print(i)\n",
    "\n",
    "for i, v in enumerate(names):\n",
    "    print(i,v)"
   ]
  },
  {
   "cell_type": "markdown",
   "metadata": {},
   "source": [
    "##### 'in' keyword"
   ]
  },
  {
   "cell_type": "code",
   "execution_count": 114,
   "metadata": {},
   "outputs": [
    {
     "name": "stdout",
     "output_type": "stream",
     "text": [
      "Ranger\n"
     ]
    }
   ],
   "source": [
    "names = [\"John\", \"Laura\", \"Bill\", \"Richard\", \"Sarah\", \"Bilbo\"]\n",
    "\n",
    "if \"Richard\" in names:\n",
    "    print(\"Ranger\")\n",
    "else:\n",
    "    print(\"Not a ranger\")"
   ]
  },
  {
   "cell_type": "code",
   "execution_count": 115,
   "metadata": {},
   "outputs": [
    {
     "name": "stdout",
     "output_type": "stream",
     "text": [
      "B's Knees\n",
      "B's Knees\n"
     ]
    }
   ],
   "source": [
    "for name in names:\n",
    "    if name[0] == \"B\":\n",
    "        print(\"B's Knees\")"
   ]
  },
  {
   "cell_type": "code",
   "execution_count": 119,
   "metadata": {},
   "outputs": [
    {
     "name": "stdout",
     "output_type": "stream",
     "text": [
      "Nope\n",
      "Nope\n",
      "Nope\n",
      "Richard\n",
      "Nope\n",
      "Nope\n",
      "\n",
      "\n",
      "Nope\n",
      "Nope\n",
      "Nope\n",
      "Richard\n",
      "Nope\n",
      "Nope\n"
     ]
    }
   ],
   "source": [
    "for name in names:\n",
    "    if \"R\" in name:\n",
    "        print(\"Richard\")\n",
    "    else:\n",
    "        print(\"Nope\")\n",
    "\n",
    "print('\\n')\n",
    "##To save time complexity doing the same thing...\n",
    "for name in names:\n",
    "    if \"R\" in name[0]:\n",
    "        print(\"Richard\")\n",
    "    else:\n",
    "        print(\"Nope\")\n",
    "        \n",
    "##To save time complexity doing the same thing...\n"
   ]
  },
  {
   "cell_type": "code",
   "execution_count": 121,
   "metadata": {},
   "outputs": [
    {
     "name": "stdout",
     "output_type": "stream",
     "text": [
      "J\n",
      "o\n",
      "h\n",
      "n\n",
      "L\n",
      "a\n",
      "u\n",
      "r\n",
      "a\n",
      "B\n",
      "i\n",
      "l\n",
      "l\n",
      "R\n",
      "i\n",
      "c\n",
      "h\n",
      "a\n",
      "r\n",
      "d\n",
      "S\n",
      "a\n",
      "r\n",
      "a\n",
      "h\n",
      "B\n",
      "i\n",
      "l\n",
      "b\n",
      "o\n"
     ]
    }
   ],
   "source": [
    "for i in range(len(names)):\n",
    "    for j in range(len(names[i])):\n",
    "        print(names[i][j])"
   ]
  },
  {
   "cell_type": "markdown",
   "metadata": {},
   "source": [
    "##### 'not in' keyword"
   ]
  },
  {
   "cell_type": "code",
   "execution_count": 122,
   "metadata": {},
   "outputs": [
    {
     "name": "stdout",
     "output_type": "stream",
     "text": [
      "Frederick is not a Ranger, boooo Frederick\n"
     ]
    }
   ],
   "source": [
    "rangers = [\"John\", \"Laura\", \"Bill\", \"Richard\", \"Sarah\", \"Bilbo\"]\n",
    "\n",
    "if \"Frederick\" not in rangers:\n",
    "    print(\"Frederick is not a Ranger, boooo Frederick\")"
   ]
  },
  {
   "cell_type": "markdown",
   "metadata": {},
   "source": [
    "##### Checking an Empty List"
   ]
  },
  {
   "cell_type": "code",
   "execution_count": 127,
   "metadata": {},
   "outputs": [
    {
     "name": "stdout",
     "output_type": "stream",
     "text": [
      "That is an empty list.\n",
      "no\n"
     ]
    }
   ],
   "source": [
    "l_2 = []\n",
    "l_3 = None #None is not same as empty list\n",
    "\n",
    "if l_2 == []:\n",
    "    print(\"That is an empty list.\")\n",
    "    \n",
    "if l_3 == l_2:\n",
    "    print(\"yes\")\n",
    "else:\n",
    "    print(\"no\")"
   ]
  },
  {
   "cell_type": "markdown",
   "metadata": {},
   "source": [
    "##### Removing Instances with a Loop"
   ]
  },
  {
   "cell_type": "code",
   "execution_count": 129,
   "metadata": {},
   "outputs": [
    {
     "name": "stdout",
     "output_type": "stream",
     "text": [
      "['John', 'Laura', 'Bill', 'Richard', 'Sarah', 'Bilbo', 'Ryan']\n",
      "['John', 'Laura', 'Bill', 'Richard', 'Sarah', 'Bilbo']\n",
      "['John', 'Laura', 'Bill', 'Richard', 'Bilbo']\n"
     ]
    }
   ],
   "source": [
    "names = [\"John\", \"Laura\", \"Bill\", \"Richard\", \"Sarah\", \"Bilbo\", \"Ryan\"]\n",
    "print(names)\n",
    "#while, remove\n",
    "while \"Ryan\" in names:\n",
    "    names.remove(\"Ryan\")\n",
    "print(names)\n",
    "\n",
    "#for loop, remove\n",
    "for name in names:\n",
    "    if name == \"Sarah\":\n",
    "        names.remove(\"Sarah\")\n",
    "print(names)"
   ]
  },
  {
   "cell_type": "markdown",
   "metadata": {},
   "source": [
    "### List Exercise <br>\n",
    "<p>Remove all duplicates<br><b>Extra: Create a program that will remove any duplicates from a given list</b></p>"
   ]
  },
  {
   "cell_type": "code",
   "execution_count": 141,
   "metadata": {},
   "outputs": [
    {
     "name": "stdout",
     "output_type": "stream",
     "text": [
      "['connor', 'bob', 'evan', 'max', 2, 3, 4, 'kevin']\n"
     ]
    }
   ],
   "source": [
    "names = ['connor', 'connor', 'bob', 'connor', 'evan', 'max', 'evan', 2, 2, 2, 3, 3, 4, 'bob', 'kevin']\n",
    "# Hint 1: You will need an append\n",
    "# Hint 2: Using an empty list will make life easier\n",
    "result = []\n",
    "\n",
    "def nameRemoval(list):\n",
    "    for name in list:\n",
    "        if name not in result:\n",
    "            result.append(name)\n",
    "\n",
    "nameRemoval(names)\n",
    "print(result)\n"
   ]
  },
  {
   "cell_type": "code",
   "execution_count": 149,
   "metadata": {},
   "outputs": [
    {
     "name": "stdout",
     "output_type": "stream",
     "text": [
      "['connor', 'bob', 'evan', 'max', 2, 3, 4, 'kevin']\n",
      "[1, 1, 1, 1, 1, 1, 1, 1]\n",
      "{'connor': 1, 'bob': 1, 'evan': 1, 'max': 1, 2: 1, 3: 1, 4: 1, 'kevin': 1}\n"
     ]
    }
   ],
   "source": [
    "names = ['connor', 'connor', 'bob', 'connor', 'evan', 'max', 'evan', 2, 2, 2, 3, 3, 4, 'bob', 'kevin']\n",
    "\n",
    "my_dict = {}\n",
    "\n",
    "for name in names:\n",
    "    my_dict[name] = 1\n",
    "        \n",
    "print(list(my_dict.keys()))\n",
    "print(list(my_dict.values()))\n",
    "print(my_dict)\n",
    "\n"
   ]
  },
  {
   "cell_type": "markdown",
   "metadata": {},
   "source": [
    "### List Comprehensions <br>\n",
    "<p>Creating a quickly generated list to work with<br>*result*  = [*transform*    *iteration*         *filter*     ]</p>"
   ]
  },
  {
   "cell_type": "markdown",
   "metadata": {},
   "source": [
    "##### In a list comprehension we have a few pieces:\n",
    "1. The first is the counter/ variable - IN this the variable is x\n",
    "2. then we have a transform for the variable\n",
    "3. The finale part of a list comp is called the condition\n",
    "\n",
    "```python\n",
    "    [transform, iteration/variable, condition]\n",
    "```"
   ]
  },
  {
   "cell_type": "code",
   "execution_count": 159,
   "metadata": {
    "scrolled": true
   },
   "outputs": [
    {
     "name": "stdout",
     "output_type": "stream",
     "text": [
      "[4, 16, 25, 36, 49, 64, 81, 100]\n",
      "\n",
      "\n",
      "[4, 16, 25, 36, 49, 64, 81, 100]\n",
      "[4, 16, 36, 64, 100]\n"
     ]
    }
   ],
   "source": [
    "nums = [2, 4, 5, 6, 7, 8, 9 , 10]\n",
    "nums_squared = []\n",
    "\n",
    "for num in nums:\n",
    "    nums_squared.append(num**2)\n",
    "    \n",
    "print(nums_squared)\n",
    "print('\\n')\n",
    "\n",
    "#list comprehension way #saves space but rarely saves time\n",
    "bums_squared = [num**2 for num in nums] #this is creating the list too, hence bums_squared not being defined previously\n",
    "print(bums_squared)\n",
    "nums_squared = [x**2 for x in nums if x%2 == 0]\n",
    "print(nums_squared)"
   ]
  },
  {
   "cell_type": "markdown",
   "metadata": {},
   "source": [
    "There are a few benefits to using List comprehensions. The most obvious would be that we now have shorter code to work with instead of using 3+ lines of code in the for loop variant.\n",
    "\n",
    "Another is an added benefit to memory usage. Since the list's memory is allocated first before adding elements to it, we don't have to resize the list once we add elements to it.\n",
    "\n",
    "Lastly, list comprehensions are considered the \"pythonic\" way to write code by the PEP8 standards (Python Style Guide)"
   ]
  },
  {
   "cell_type": "code",
   "execution_count": 161,
   "metadata": {},
   "outputs": [
    {
     "name": "stdout",
     "output_type": "stream",
     "text": [
      "['J', 'L', 'B', 'R', 'S', 'B', 'R']\n"
     ]
    }
   ],
   "source": [
    "#list string compehension\n",
    "names = [\"John\", \"Laura\", \"Bill\", \"Richard\", \"Sarah\", \"Bilbo\", \"Ryan\"]\n",
    "\n",
    "first_letters = [name[0] for name in names]\n",
    "\n",
    "print(first_letters)\n",
    "\n",
    "\n"
   ]
  },
  {
   "cell_type": "code",
   "execution_count": 185,
   "metadata": {},
   "outputs": [
    {
     "name": "stdout",
     "output_type": "stream",
     "text": [
      "['Sarah', 'Sean']\n",
      "['Sarah', 'Sean']\n",
      "\n",
      "\n",
      "[\"John's'\", \"Laura's'\", \"Bill's'\", \"Richard's'\", 'Sarah', \"Bilbo's'\", \"Ryan's'\", 'Sean']\n"
     ]
    }
   ],
   "source": [
    "names = [\"John\", \"Laura\", \"Bill\", \"Richard\", \"Sarah\", \"Bilbo\", \"Ryan\", \"Sean\"]\n",
    "\n",
    "#boring for loop\n",
    "s_names = []\n",
    "for name in names:\n",
    "    if name[0] == \"S\":\n",
    "        s_names.append(name)    \n",
    "print(s_names)\n",
    "\n",
    "#conditional in list comprehension always comes after the for\n",
    "s_names = [x for x in names if x[0] == 'S'] #x and name interchangable\n",
    "print(s_names)\n",
    "\n",
    "print('\\n')\n",
    "\n",
    "#different syntax with longer condition\n",
    "s_r_names = [name if name[0] == 'S' else name+\"'s'\" for name in names]\n",
    "print(s_r_names)\n"
   ]
  },
  {
   "cell_type": "code",
   "execution_count": null,
   "metadata": {},
   "outputs": [],
   "source": []
  },
  {
   "cell_type": "markdown",
   "metadata": {},
   "source": [
    "### Tuples <br>\n",
    "<p><b>Defined as an immutable list</b></p><br>Seperated by commas using parenthesis"
   ]
  },
  {
   "cell_type": "code",
   "execution_count": 181,
   "metadata": {},
   "outputs": [
    {
     "name": "stdout",
     "output_type": "stream",
     "text": [
      "(1, 2, 3)\n",
      "(4, 5, 6)\n",
      "<class 'tuple'>\n",
      "2\n",
      "6\n",
      "tuple length 3\n",
      "1\n",
      "2\n",
      "3\n",
      "4\n",
      "5\n",
      "6\n"
     ]
    }
   ],
   "source": [
    "#tuples cannot be changed, they are immutable\n",
    "\n",
    "\n",
    "tup_1 = (1, 2, 3) #one way to create a tuple\n",
    "tup_2 = 4, 5, 6 #another way to create a tuple\n",
    "print(tup_1)\n",
    "print(tup_2)\n",
    "\n",
    "print(type(tup_1))\n",
    "\n",
    "print(tup_1[1])\n",
    "print(tup_2[2])\n",
    "\n",
    "print(\"tuple length\", len(tup_2))\n",
    "\n",
    "for num in tup_1:\n",
    "    print(num)\n",
    "    \n",
    "for i in range(len(tup_2)):\n",
    "    print(tup_2[i])\n"
   ]
  },
  {
   "cell_type": "markdown",
   "metadata": {},
   "source": [
    "##### sorted()"
   ]
  },
  {
   "cell_type": "code",
   "execution_count": 198,
   "metadata": {},
   "outputs": [
    {
     "name": "stdout",
     "output_type": "stream",
     "text": [
      "[1, 5, 5, 5, 5, 5, 20, 30, 91, 123]\n",
      "(1, 5, 5, 5, 5, 5, 20, 30, 91, 123)\n",
      "(1, 4, 9, 10, -30, 20, 5, 1, 30, 91, 123, 5, 5, 5, 5)\n"
     ]
    }
   ],
   "source": [
    "tup = (20, 5, 1, 30, 91, 123)\n",
    "#tup.sort() doesnt work, tuple cannot be changed\n",
    "\n",
    "print(sorted(tup)) #creates a new sorted list out of tuple\n",
    "print(tuple(sorted(tup)))\n",
    "\n",
    "some_list = [1, 4, 9, 10, -30]\n",
    "\n",
    "#combine_list = some_list + tup does not wor. cannot concatenate list to tuple\n",
    "\n",
    "new_tup = tuple(some_list) #converts list to tuple\n",
    "\n",
    "new_new_tup = new_tup + tup\n",
    "print(new_new_tup)"
   ]
  },
  {
   "cell_type": "markdown",
   "metadata": {},
   "source": [
    "##### Adding values to a Tuple"
   ]
  },
  {
   "cell_type": "code",
   "execution_count": 201,
   "metadata": {},
   "outputs": [
    {
     "name": "stdout",
     "output_type": "stream",
     "text": [
      "(1, 2, 3, 4, 5)\n"
     ]
    }
   ],
   "source": [
    "tup_1 = (1, 2, 3, 4)\n",
    "\n",
    "tup_1 = tup_1 + (5, )\n",
    "print(tup_1)"
   ]
  },
  {
   "cell_type": "code",
   "execution_count": 203,
   "metadata": {},
   "outputs": [
    {
     "name": "stdout",
     "output_type": "stream",
     "text": [
      "[1, 2, 3, 4, 5, 6, 7, 8, 9, 10]\n",
      "[1, 2, 3, 4, 5, 6, 7, 8, 9, 10]\n"
     ]
    }
   ],
   "source": [
    "#list concatenation *\n",
    "\n",
    "my_list = [1, 2, 3, 4, 5]\n",
    "my_list2 = [6, 7, 8 ,9, 10]\n",
    "\n",
    "new_list = my_list + my_list2\n",
    "\n",
    "print(new_list)\n",
    "\n",
    "my_list += my_list2\n",
    "print(my_list)\n"
   ]
  },
  {
   "cell_type": "markdown",
   "metadata": {},
   "source": [
    "# Exercises"
   ]
  },
  {
   "cell_type": "markdown",
   "metadata": {},
   "source": [
    "## Exercise 1 <br>\n",
    "<p>Using the given list, print out a filtered version of the list with only the numbers that are less than ten</b></i></p><br>\n"
   ]
  },
  {
   "cell_type": "code",
   "execution_count": 205,
   "metadata": {},
   "outputs": [
    {
     "name": "stdout",
     "output_type": "stream",
     "text": [
      "[1, 5, 8, 9]\n"
     ]
    }
   ],
   "source": [
    "alist = [1,11,14,5,8,9]\n",
    "blist = []\n",
    "\n",
    "for num in alist:\n",
    "    if num < 10:\n",
    "        blist.append(num)\n",
    "\n",
    "print(blist)\n",
    "\n"
   ]
  },
  {
   "cell_type": "markdown",
   "metadata": {},
   "source": [
    "## Exercise 2 <br>\n",
    "<p>Merge and sort the two lists below<br>\n",
    "<b><i>Hint: You can use the .sort() method</i></b></p>"
   ]
  },
  {
   "cell_type": "code",
   "execution_count": 20,
   "metadata": {},
   "outputs": [
    {
     "name": "stdout",
     "output_type": "stream",
     "text": [
      "[1, 2, 3, 3, 4, 4, 5, 5, 6, 6, 7, 8, 10]\n"
     ]
    }
   ],
   "source": [
    "l_1 = [1,2,3,4,5,6]\n",
    "l_2 = [3,4,5,6,7,8,10]\n",
    "\n",
    "l_3 = l_1 + l_2\n",
    "\n",
    "l_3.sort()\n",
    "print(l_3)\n",
    "\n",
    "\n"
   ]
  }
 ],
 "metadata": {
  "kernelspec": {
   "display_name": "Python 3 (ipykernel)",
   "language": "python",
   "name": "python3"
  },
  "language_info": {
   "codemirror_mode": {
    "name": "ipython",
    "version": 3
   },
   "file_extension": ".py",
   "mimetype": "text/x-python",
   "name": "python",
   "nbconvert_exporter": "python",
   "pygments_lexer": "ipython3",
   "version": "3.9.13"
  }
 },
 "nbformat": 4,
 "nbformat_minor": 2
}
